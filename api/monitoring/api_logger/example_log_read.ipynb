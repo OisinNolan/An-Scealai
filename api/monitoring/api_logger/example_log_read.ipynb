{
 "cells": [
  {
   "cell_type": "code",
   "execution_count": 1,
   "metadata": {},
   "outputs": [
    {
     "name": "stdout",
     "output_type": "stream",
     "text": [
      "   2023-5-29_18-1-15                /sentenceTokenize  200  \\\n",
      "0  2023-5-29_18-1-16                /story/update/:id  200   \n",
      "1  2023-5-29_18-1-16  /engagement/addEventForUser/:id  200   \n",
      "\n",
      "  {\"text\":\"EEEE\\nMo madra.\\n....................\\n\"}  59  \n",
      "0  {\"title\":\"www\",\"dialect\":\"connemara\",\"text\":\"E...  45  \n",
      "1  {\"event\":{\"type\":\"SAVE-STORY\",\"storyData\":{\"fe...  39  \n"
     ]
    }
   ],
   "source": [
    "import pandas as pd\n",
    "\n",
    "df = pd.read_csv('./logs/current.csv')\n",
    "\n",
    "print(df.head())"
   ]
  }
 ],
 "metadata": {
  "kernelspec": {
   "display_name": "Python 3",
   "language": "python",
   "name": "python3"
  },
  "language_info": {
   "codemirror_mode": {
    "name": "ipython",
    "version": 3
   },
   "file_extension": ".py",
   "mimetype": "text/x-python",
   "name": "python",
   "nbconvert_exporter": "python",
   "pygments_lexer": "ipython3",
   "version": "3.7.6"
  },
  "orig_nbformat": 4
 },
 "nbformat": 4,
 "nbformat_minor": 2
}
